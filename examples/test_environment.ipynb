{
 "cells": [
  {
   "cell_type": "code",
   "execution_count": 1,
   "metadata": {},
   "outputs": [],
   "source": [
    "from dynamics.new.core import *"
   ]
  },
  {
   "cell_type": "code",
   "execution_count": 2,
   "metadata": {},
   "outputs": [],
   "source": [
    "valid: bool = True"
   ]
  },
  {
   "cell_type": "code",
   "execution_count": 9,
   "metadata": {},
   "outputs": [],
   "source": [
    "support_1 = Support('support_1', 0)\n",
    "spring_1 = Spring('spring_1', 10, 0, 0)\n",
    "mass_1 = PointMass('mass_1', 1, 0, 1)\n",
    "\n",
    "components = [support_1, spring_1, mass_1]\n",
    "components = {c.name: c for c in components}\n",
    "\n",
    "connections = {\n",
    "    'spring_1': ['support_1', 'mass_1']\n",
    "}\n",
    "\n",
    "assets = {\n",
    "    mass_1: {\n",
    "        'name': mass_1.name,\n",
    "        'variable_name': 'x',\n",
    "        'motions': [\n",
    "            {\n",
    "                'connection': spring_1,\n",
    "                'attachment': support_1,\n",
    "                'motion': 'translational'\n",
    "            }\n",
    "        ]\n",
    "    }\n",
    "}"
   ]
  },
  {
   "cell_type": "code",
   "execution_count": null,
   "metadata": {},
   "outputs": [],
   "source": [
    "for c in connections.values():\n",
    "    if not isinstance(connections, list):\n",
    "        valid = False\n",
    "    else:\n",
    "        if len(connections) != 2:\n",
    "            valid = False"
   ]
  },
  {
   "cell_type": "code",
   "execution_count": 10,
   "metadata": {},
   "outputs": [
    {
     "data": {
      "text/plain": [
       "{<dynamics.new.core.PointMass at 0xffff5ca38910>: {'name': 'mass_1',\n",
       "  'variable_name': 'x',\n",
       "  'motions': [{'connection': <dynamics.new.core.Spring at 0xffff5ca39850>,\n",
       "    'attachment': <dynamics.new.core.Support at 0xffff5ca3bd50>,\n",
       "    'motion': 'translational'}]}}"
      ]
     },
     "execution_count": 10,
     "metadata": {},
     "output_type": "execute_result"
    }
   ],
   "source": [
    "assets"
   ]
  },
  {
   "cell_type": "code",
   "execution_count": 11,
   "metadata": {},
   "outputs": [],
   "source": [
    "coord_system = \"cartesian_1D\""
   ]
  },
  {
   "cell_type": "code",
   "execution_count": null,
   "metadata": {},
   "outputs": [],
   "source": []
  }
 ],
 "metadata": {
  "kernelspec": {
   "display_name": "dynamics",
   "language": "python",
   "name": "python3"
  },
  "language_info": {
   "codemirror_mode": {
    "name": "ipython",
    "version": 3
   },
   "file_extension": ".py",
   "mimetype": "text/x-python",
   "name": "python",
   "nbconvert_exporter": "python",
   "pygments_lexer": "ipython3",
   "version": "3.11.0"
  },
  "orig_nbformat": 4,
  "vscode": {
   "interpreter": {
    "hash": "32e866944b20c129733332a7c2c1d572a05759b644ac65ef64d67e72974bfb26"
   }
  }
 },
 "nbformat": 4,
 "nbformat_minor": 2
}
